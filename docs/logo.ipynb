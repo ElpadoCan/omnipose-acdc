{
 "cells": [
  {
   "cell_type": "markdown",
   "id": "5bac4f25-98c4-4c6b-badb-a43e49dcd6ba",
   "metadata": {},
   "source": [
    "```{eval-rst}\n",
    ".. include:: sinebow.rst\n",
    "\n",
    "```\n",
    "{sinebow23}`Logo`\n",
    "==================\n",
    "\n",
    "This is a little cute: Omnipose can \"segment\" text using the `bact_phase_omni` model. Semantic segmentation of uniform, \n",
    "disjoint shapes on a uniform background is absolutely no feat, but it is amusing that a neural network trained purely on \n",
    "phase contrast images of bacteria gives such reasonable output on something so different from the training set. \n",
    "Also, the over-segmentation at cusps hints that the network has learned to pick up on local morphology. "
   ]
  },
  {
   "cell_type": "code",
   "execution_count": null,
   "id": "1e9f9a79-9b60-4653-b28a-6d08e86c1628",
   "metadata": {
    "jupyter": {
     "source_hidden": true
    },
    "tags": []
   },
   "outputs": [],
   "source": [
    "%load_ext autoreload\n",
    "%autoreload 2"
   ]
  },
  {
   "cell_type": "code",
   "execution_count": null,
   "id": "62420ce0-b0f4-4385-a56b-d4a96aaddf60",
   "metadata": {},
   "outputs": [],
   "source": [
    "from PIL import Image, ImageDraw, ImageFont\n",
    "import numpy as np\n",
    "import matplotlib.pyplot as plt\n",
    "plt.style.use('dark_background')\n",
    "import matplotlib as mpl\n",
    "%matplotlib inline\n",
    "mpl.rcParams['figure.dpi'] = 300\n",
    "\n",
    "from omnipose.utils import bbox_to_slice\n",
    "\n",
    "tsizes = [60]\n",
    "texts = [\"Omnipose\",\"O\"]\n",
    "imgs = []\n",
    "for textsize in tsizes:\n",
    "    fonts = [ImageFont.truetype(f, textsize) for f in [\"SFNSRounded.ttf\"]]\n",
    "    for text in texts:\n",
    "        for font in fonts:\n",
    "            size = np.array([textsize*len(text)*2, textsize*2])\n",
    "            im = Image.new(\"RGB\", tuple(size), \"white\")\n",
    "            d = ImageDraw.Draw(im)\n",
    "            center = size/2\n",
    "            anchor = \"mm\"\n",
    "            d.text(center, text, fill=\"black\", anchor=anchor, font=font)\n",
    "\n",
    "            bbox = d.textbbox(center, text, anchor=anchor, font=font)\n",
    "            bbox\n",
    "            bbox = [bbox[1],bbox[0],bbox[3],bbox[2]] # reverse x, y\n",
    "            im = np.array(im)\n",
    "            slc = bbox_to_slice(bbox,im.shape,pad = 3)\n",
    "            im = im[slc]\n",
    "            imgs.append(im)\n",
    "            \n",
    "            fig = plt.figure(figsize=(1,)*2)\n",
    "            plt.imshow(im)\n",
    "            plt.axis('off')\n",
    "            plt.show()"
   ]
  },
  {
   "cell_type": "code",
   "execution_count": null,
   "id": "a094adcc-ad74-4063-aa90-12c9330ba625",
   "metadata": {},
   "outputs": [],
   "source": [
    "from cellpose import models, core\n",
    "model_name = 'bact_phase_omni'\n",
    "use_GPU = core.use_gpu()\n",
    "model = models.CellposeModel(gpu=use_GPU, model_type=model_name)\n",
    "\n",
    "\n",
    "chans = [0,0] #this means segment based on first channel, no second channel \n",
    "nimg = len(imgs)\n",
    "n = range(nimg) \n",
    "\n",
    "# define parameters\n",
    "mask_threshold = 1\n",
    "verbose = 0 \n",
    "use_gpu = use_GPU \n",
    "transparency = True \n",
    "rescale=None\n",
    "omni = True \n",
    "flow_threshold = 0 \n",
    "resample = True \n",
    "cluster = False\n",
    "\n",
    "masks, flows, styles = model.eval([imgs[i] for i in n],\n",
    "                                  channels=chans,\n",
    "                                  rescale=rescale,\n",
    "                                  mask_threshold=mask_threshold,\n",
    "                                  transparency=transparency,\n",
    "                                  flow_threshold=flow_threshold,\n",
    "                                  omni=omni,resample=resample,\n",
    "                                  verbose=verbose, \n",
    "                                  cluster=cluster)"
   ]
  },
  {
   "cell_type": "code",
   "execution_count": null,
   "id": "5c9d0633-c277-45a4-b506-b89b4b322b5f",
   "metadata": {},
   "outputs": [],
   "source": [
    "from cellpose import plot\n",
    "import omnipose\n",
    "\n",
    "for idx,i in enumerate(n):\n",
    "\n",
    "    maski = masks[idx]\n",
    "    flowi = flows[idx][0]\n",
    "\n",
    "    fig = plt.figure(figsize=(12,5))\n",
    "    plot.show_segmentation(fig, omnipose.utils.normalize99(imgs[i]), maski, flowi, channels=chans, omni=True, bg_color=0)\n",
    "    \n",
    "    plt.tight_layout()\n",
    "    plt.show()"
   ]
  },
  {
   "cell_type": "markdown",
   "id": "16cfbbbf-9103-4e65-bb20-800682b70efd",
   "metadata": {},
   "source": [
    "I landed on this font because it is one of Apple's sytem defaults (and thefore works well with the system fonts used on our website when viewed on Apple devices), and I chose this scale because it is very close to bacteria and showed a good amount of 'segmentation' in the M, N, P, and E from purely local morphology (cusps). This gives reasonable output at higher-resulution text (wider 'cells'), but it starts to hallucinate output between objects if the size gets too large. \n",
    "\n",
    "The transparency (alpha channel) is set by the flow magnitude, and the color (RGB channels) is set by the flow angle according to a shifted sinebow relation:\n",
    "```python\n",
    "angles = np.arctan2(dP[1], dP[0])+np.pi\n",
    "r = ((np.cos(angles)+1)/2)\n",
    "g = ((np.cos(angles+2*np.pi/3)+1)/2)\n",
    "b =((np.cos(angles+4*np.pi/3)+1)/2)\n",
    "```\n",
    "(a is just a constant, not alpha). The slight tinge of green comes from the fact that `np.arctan2(0,0)=0` and `((np.cos(0+2*np.pi/3)+1)/2) = 1/4`. I'll try two ways to remove it: \n",
    "first by removing any average background bias, second by adjusting the alpha channel so that the background alpha is 0 on average. "
   ]
  },
  {
   "cell_type": "code",
   "execution_count": null,
   "id": "8436dd89-0af4-427a-9944-c09758d3f83b",
   "metadata": {},
   "outputs": [],
   "source": [
    "import skimage.io\n",
    "import os\n",
    "from omnipose.utils import normalize99, rescale\n",
    "from scipy.ndimage import zoom\n",
    "\n",
    "basedir = '_static/'\n",
    "names = ['logo.png','icon.ico']\n",
    "ext = '.png'\n",
    "for idx,i in enumerate(n):\n",
    "\n",
    "    maski = masks[idx]\n",
    "    flowi = flows[idx][0]\n",
    "    dPi = flows[idx][1]\n",
    "    bias = [np.mean(d[maski==0]) for d in dPi]\n",
    "    angle = np.arctan2(bias[1], bias[0]) / np.pi\n",
    "    print('avarage bias is {}, average angle is {} pi rad.'.format(bias,angle))\n",
    "    dPi_new = np.stack([np.clip(d - b,-np.inf,np.inf) for d,b in zip(dPi,bias)])\n",
    "    flowi_new = plot.dx_to_circ(dPi_new,transparency=True)\n",
    "    \n",
    "    flowi_3 = flowi.copy()\n",
    "    alpha = flowi_3[...,-1]\n",
    "    flowi_3[...,-1] = rescale(np.clip(alpha-np.mean(alpha[maski==0]),0,np.inf))*255\n",
    "    \n",
    "    \n",
    "    plt.imshow(np.hstack([flowi,flowi_new,flowi_3]))\n",
    "    plt.axis('off')\n",
    "    plt.show()\n",
    "    # aplha channel correction is the winner\n",
    "    # also rescale the image without interpolation so that, when displayed as favicon etc., it is not as smoothed out - we want to show real output \n",
    "    skimage.io.imsave(os.path.join(basedir,names[idx]),zoom(flowi_3,(3,)*(flowi.ndim-1)+(1,),order=0)) \n",
    "    "
   ]
  },
  {
   "cell_type": "markdown",
   "id": "947b3e28-4e3b-42e7-a006-83e3336c7be4",
   "metadata": {},
   "source": [
    "Turns out that subtracting off the flow component bias introduces some overcorrection in places, leading to some discoloration. So, alpha adjustment it is. It might be hard for you to see it, but I can. This level of pixel-peeping is how I made my ground-truth data ;-) "
   ]
  }
 ],
 "metadata": {
  "kernelspec": {
   "display_name": "Python 3 (ipykernel)",
   "language": "python",
   "name": "python3"
  },
  "language_info": {
   "codemirror_mode": {
    "name": "ipython",
    "version": 3
   },
   "file_extension": ".py",
   "mimetype": "text/x-python",
   "name": "python",
   "nbconvert_exporter": "python",
   "pygments_lexer": "ipython3",
   "version": "3.8.10"
  }
 },
 "nbformat": 4,
 "nbformat_minor": 5
}
