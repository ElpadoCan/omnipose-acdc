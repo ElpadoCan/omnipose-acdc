{
 "cells": [
  {
   "cell_type": "markdown",
   "id": "7c44b8da-5cb6-463f-b275-0be5085026fa",
   "metadata": {},
   "source": [
    "# Running Omnipose\n",
    "Omnipose works with all of Cellpose. Use `omni=True` to enable it, even when using Cellpose-based models. This might help avoid over-segmentation without retraining. "
   ]
  },
  {
   "cell_type": "code",
   "execution_count": null,
   "id": "11cc143f-0aff-4a81-a7ff-d019a84bd127",
   "metadata": {},
   "outputs": [],
   "source": [
    "# First, import dependencies.\n",
    "import numpy as np\n",
    "import time, os, sys\n",
    "from cellpose import models, core\n",
    "\n",
    "# This checks to see if you have set up your GPU properly.\n",
    "# CPU performance is a lot slower, but not a problem if you are only processing a few images.\n",
    "use_GPU = core.use_gpu()\n",
    "print('>>> GPU activated? %d'%use_GPU)\n",
    "\n",
    "# for plotting \n",
    "import matplotlib.pyplot as plt\n",
    "plt.style.use('dark_background')\n",
    "import matplotlib as mpl\n",
    "%matplotlib inline\n",
    "mpl.rcParams['figure.dpi'] = 300\n"
   ]
  },
  {
   "cell_type": "markdown",
   "id": "fa495d2c-1bfd-49ba-9dcc-89615cf48e8f",
   "metadata": {},
   "source": [
    "### Load files\n",
    "There are several ways to load your image files into a notebook. If you have a specific set of images, put their full paths into a list, for example:"
   ]
  },
  {
   "cell_type": "code",
   "execution_count": null,
   "id": "0e2949f4-ad70-41b1-823e-40220804adea",
   "metadata": {},
   "outputs": [],
   "source": [
    "files = ['path_to_image_1'] # make it a list even if there is only one file\n",
    "files = ['path_to_image_1','path_to_image_2']\n",
    "\n",
    "# you can also add to the list like so:\n",
    "files = files + ['path_to_image_3']"
   ]
  },
  {
   "cell_type": "markdown",
   "id": "021d9fb0-6f06-4f06-96b4-f3eb0d21dfcb",
   "metadata": {},
   "source": [
    "Alternatively, you can load all the images in a directory. Here are a few templates you can use to get the list of directories automatically by searching for image files matching a cetrain file lane with an extension and keywords in the file name. "
   ]
  },
  {
   "cell_type": "code",
   "execution_count": null,
   "id": "afd67fff-eb0b-4633-bb1e-0b5fb81f2830",
   "metadata": {},
   "outputs": [],
   "source": [
    "from pathlib import Path\n",
    "\n",
    "basedir = 'path_to_image_folder'\n",
    "files = [str(p) for p in Path(basedir).rglob(\"*.tif\")] #use rglob to search subfolders recusrively \n",
    "files = [str(p) for p in Path(basedir).glob(\"*C1.png\")] # change the search string to grab only one channel\n",
    "files = [str(p) for p in Path(basedir).glob(\"*488*.png\")] # specify a match anywhere in the file name"
   ]
  },
  {
   "cell_type": "markdown",
   "id": "0ef4a895-6934-471e-9913-1b5ccf32e987",
   "metadata": {},
   "source": [
    "We are ging to use a specific test file:"
   ]
  },
  {
   "cell_type": "code",
   "execution_count": null,
   "id": "1452d605-54d0-417e-a720-33436e319231",
   "metadata": {},
   "outputs": [],
   "source": [
    "files = ['/home/kcutler/DataDrive/omnipose/test_files/e1t1_crop.tif']"
   ]
  },
  {
   "cell_type": "markdown",
   "id": "cb8337f9-5ba1-46f4-8302-a21278a274f3",
   "metadata": {},
   "source": [
    "Read in the images from the file list. It's a good idea to display the images before proceeding. "
   ]
  },
  {
   "cell_type": "code",
   "execution_count": null,
   "id": "1cd67a3b-435d-45a3-b966-cfee2f29ba80",
   "metadata": {},
   "outputs": [],
   "source": [
    "from cellpose import io, transforms \n",
    "imgs = [io.imread(f) for f in files]\n",
    "\n",
    "# print some infor about the images \n",
    "for i in imgs:\n",
    "    print(i.shape)\n",
    "nimg = len(imgs)\n",
    "print(nimg)\n",
    "\n",
    "plt.figure(figsize=[4]*2) # initialize figure\n",
    "for k in range(len(imgs)):\n",
    "    img = transforms.move_min_dim(imgs[k]) # move the channel dimension last\n",
    "    if len(img.shape)>2:\n",
    "        # imgs[k] = img[:,:,1]\n",
    "        imgs[k] = np.mean(img,axis=-1)\n",
    "        \n",
    "    imgs[k] = transforms.normalize99(imgs[k],omni=True)\n",
    "    plt.subplot(1,len(files),k+1)\n",
    "    plt.imshow(imgs[k],cmap='gray')\n",
    "    plt.axis('off')"
   ]
  },
  {
   "cell_type": "markdown",
   "id": "f635d57e-72e7-415b-aea5-73990f9450e2",
   "metadata": {},
   "source": [
    "### Initialize Model"
   ]
  },
  {
   "cell_type": "code",
   "execution_count": null,
   "id": "626923fe-1fb0-43f8-a95e-d3716854f96a",
   "metadata": {},
   "outputs": [],
   "source": [
    "model_name = 'bact_omni'\n",
    "model = models.CellposeModel(gpu=use_GPU, model_type=model_name)"
   ]
  },
  {
   "cell_type": "markdown",
   "id": "469856ad-65c8-4ba7-b371-e2661516c413",
   "metadata": {},
   "source": [
    "### Run segmentation "
   ]
  },
  {
   "cell_type": "code",
   "execution_count": null,
   "id": "48ad2e8b-59eb-49a2-90b3-fc1407ed9cac",
   "metadata": {},
   "outputs": [],
   "source": [
    "chans = [0,0] #this means segment based on first channel, no second channel \n",
    "\n",
    "n = [0] # make a list of integers to select which images you want to segment\n",
    "n = range(nimg) # or just segment them all \n",
    "\n",
    "# define parameters\n",
    "mask_threshold = -1 \n",
    "verbose = 0 # turn on if you want to see more output \n",
    "use_gpu = use_GPU #defined above\n",
    "transparency = True # transparency in flow output\n",
    "rescale=None # give this a number if you need to upscale or downscale your images\n",
    "omni = True # we can turn off Omnipose mask reconstruction, not advised \n",
    "flow_threshold = 0 # default is .4, but only needed if there are spurious masks to clean up; slows down output\n",
    "resample = True #whether or not to run dynamics on rescaled grid or original grid \n",
    "\n",
    "masks, flows, styles = model.eval([imgs[i] for i in n],channels=chans,rescale=rescale,mask_threshold=mask_threshold,transparency=transparency,\n",
    "                                  flow_threshold=flow_threshold,omni=omni,resample=resample,verbose=verbose)"
   ]
  },
  {
   "cell_type": "markdown",
   "id": "20dd703c-6a6a-49fc-b9ff-ffb0559d2bcb",
   "metadata": {},
   "source": [
    "### Plot the results"
   ]
  },
  {
   "cell_type": "code",
   "execution_count": null,
   "id": "dff61688-f481-4a0b-9012-4f710d814a0b",
   "metadata": {},
   "outputs": [],
   "source": [
    "from cellpose import plot\n",
    "import omnipose\n",
    "\n",
    "for idx,i in enumerate(n):\n",
    "\n",
    "    maski = masks[idx]\n",
    "    flowi = flows[idx][0]\n",
    "\n",
    "    fig = plt.figure(figsize=(12,5))\n",
    "    # plot.show_segmentation(fig, omnipose.utils.normalize99(imgs[i][:,:,0:2]), maski, flowi, channels=chans, omni=True, bg_color=0)\n",
    "    plot.show_segmentation(fig, omnipose.utils.normalize99(imgs[i]), maski, flowi, channels=chans, omni=True, bg_color=0)\n",
    "    \n",
    "    plt.tight_layout()\n",
    "    plt.show()"
   ]
  },
  {
   "cell_type": "markdown",
   "id": "d9190bc2-58c2-4b32-b3a3-ee85e95716c9",
   "metadata": {},
   "source": [
    "### Save the results"
   ]
  },
  {
   "cell_type": "code",
   "execution_count": null,
   "id": "0f73d5c2-6a5a-41f4-914b-6acee17f7101",
   "metadata": {},
   "outputs": [],
   "source": [
    "io.save_masks(imgs, masks, flows, files, \n",
    "              tif=True, #whether to use PNG or TIF format\n",
    "              suffix='_example', # suffix to add to files if needed \n",
    "              save_flows=True, \n",
    "              save_outlines=True, # save outline images \n",
    "              dir_above=0, # save output in the image directory or in the directory above (at the level of the image directory)\n",
    "              in_folders=True, # save output in folders (recommended)\n",
    "              save_txt=False, # txt file for outlines in imageJ\n",
    "              save_ncolor=True) # save ncolor version of masks for visuaizatin and editing "
   ]
  },
  {
   "cell_type": "markdown",
   "id": "3114808e-52c3-4ac5-b8bc-8ad08fadaec2",
   "metadata": {},
   "source": [
    "### Debug results\n",
    "\n",
    "The flows shown above will give you some insight as to if there is an issue with the flow field outputs. If "
   ]
  },
  {
   "cell_type": "code",
   "execution_count": null,
   "id": "920de0d3-fefc-4e0d-ac11-286b20976905",
   "metadata": {},
   "outputs": [],
   "source": [
    "np.unique(masks[0])"
   ]
  },
  {
   "cell_type": "code",
   "execution_count": null,
   "id": "c4280c8a-4e3b-4d34-9713-2e1e137af46a",
   "metadata": {},
   "outputs": [],
   "source": [
    "plt.imshow(masks[0])"
   ]
  },
  {
   "cell_type": "code",
   "execution_count": null,
   "id": "31a557ac-1133-45a0-9a45-4c534f58589f",
   "metadata": {},
   "outputs": [],
   "source": []
  }
 ],
 "metadata": {
  "kernelspec": {
   "display_name": "Python 3 (ipykernel)",
   "language": "python",
   "name": "python3"
  },
  "language_info": {
   "codemirror_mode": {
    "name": "ipython",
    "version": 3
   },
   "file_extension": ".py",
   "mimetype": "text/x-python",
   "name": "python",
   "nbconvert_exporter": "python",
   "pygments_lexer": "ipython3",
   "version": "3.8.10"
  }
 },
 "nbformat": 4,
 "nbformat_minor": 5
}
