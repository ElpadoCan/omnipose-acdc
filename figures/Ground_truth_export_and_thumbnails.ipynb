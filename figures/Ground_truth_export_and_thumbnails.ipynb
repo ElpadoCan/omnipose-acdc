{
 "cells": [
  {
   "cell_type": "code",
   "execution_count": null,
   "id": "6dd10b90-da7b-4485-9faf-7606c3def734",
   "metadata": {},
   "outputs": [],
   "source": [
    "%load_ext autoreload\n",
    "%autoreload 2\n",
    "\n",
    "\n",
    "from pathlib import Path\n",
    "from cellpose import plot, models, core, utils, io, dynamics\n",
    "import skimage.io\n",
    "import numpy as np\n",
    "import matplotlib.pyplot as plt\n",
    "plt.style.use('dark_background')\n",
    "import matplotlib as mpl\n",
    "%matplotlib inline\n",
    "mpl.rcParams['figure.dpi'] = 300\n",
    "import time, os, sys\n",
    "from tifffile import imread\n",
    "# use_GPU = core.use_gpu()\n",
    "# print('>>> GPU activated? %d'%use_GPU)\n",
    "\n",
    "import omnipose"
   ]
  },
  {
   "cell_type": "code",
   "execution_count": null,
   "id": "95e0cf9d-9ca4-4bcc-8f05-502ad9bb4778",
   "metadata": {},
   "outputs": [],
   "source": [
    "base = '/home/kcutler/DataDrive/omnipose_all'\n",
    "# base = '/home/kcutler/DataDrive/omnipose_all/fluor'\n",
    "\n",
    "# train_dir = os.path.join(base,'train_sorted')\n",
    "# test_dir = '/home/kcutler/DataDrive/omnipose_test'\n",
    "# test_dir = os.path.join(base,'test_sorted')\n",
    "# basedir = [train_dir,test_dir]\n",
    "subset = ['train','test']\n",
    "basedir = [os.path.join(base,s + '_sorted') for s in subset]\n",
    "\n",
    "def getname(path,suffix='_masks'):\n",
    "    return os.path.splitext(Path(path).name)[0].replace(suffix,'')\n",
    "\n",
    "def get_GT(basedir):\n",
    "    mask_filter = '_masks'\n",
    "    img_names = io.get_image_files(basedir,mask_filter,look_one_level_down=True)\n",
    "    mask_names,flow_names = io.get_label_files(img_names, mask_filter)\n",
    "    #annoyingly, the names are not sorted properly because the paths are all different for the test folder...\n",
    "    mask_names = sorted(mask_names,key=getname)\n",
    "    img_names = sorted(img_names,key=getname)\n",
    "    imgs = [skimage.io.imread(f) for f in img_names]\n",
    "    # masks_gt = [utils.format_labels(utils.clean_boundary(skimage.io.imread(f))) for f in mask_names]\n",
    "    masks_gt = [omnipose.utils.format_labels(omnipose.utils.clean_boundary(skimage.io.imread(f))) for f in mask_names]\n",
    "\n",
    "    return imgs, masks_gt, img_names, mask_names\n",
    "\n",
    "\n",
    "imgs =  [[]]*2\n",
    "masks_gt =  [[]]*2\n",
    "img_names =  [[]]*2\n",
    "mask_names =  [[]]*2\n",
    "for k in range(2):\n",
    "    imgs[k], masks_gt[k], img_names[k], mask_names[k] = get_GT(basedir[k])\n",
    "# train_imgs, train_masks, train_img_names, train_mask_names = get_GT(train_dir)\n",
    "# test_imgs, test_masks, test_img_names, train_mask_names = get_GT(train_dir)"
   ]
  },
  {
   "cell_type": "markdown",
   "id": "30db1a74-04ae-4b5b-be0b-af46d3c31da3",
   "metadata": {},
   "source": [
    "### Count images and cells in dataset\n"
   ]
  },
  {
   "cell_type": "code",
   "execution_count": null,
   "id": "5287272a-9888-443b-af12-fcaf8866092f",
   "metadata": {},
   "outputs": [],
   "source": [
    "# Count images\n",
    "import fastremap, ncolor\n",
    "from matplotlib.colors import ListedColormap\n",
    "from omnipose import utils\n",
    "from cellpose import plot\n",
    "cmap = ListedColormap([color for color in utils.sinebow(5).values()])\n",
    "\n",
    "imagecount = 0\n",
    "cellcount = 0\n",
    "show = 0\n",
    "for k in range(2):\n",
    "    c = len(imgs[k])\n",
    "    print(c)\n",
    "    imagecount += c\n",
    "    \n",
    "    for maski,imgi,name in zip(masks_gt[k],imgs[k],img_names[k]):\n",
    "        # print(name)\n",
    "        c =  len(fastremap.unique(maski))\n",
    "        cellcount += c\n",
    "        \n",
    "        if show:\n",
    "            fig = plt.figure(figsize=(10,10))\n",
    "            p = utils.normalize99(imgi)\n",
    "            img0 = np.stack((p,p,p),axis=2)\n",
    "            outli = plot.outline_view(img0,maski)\n",
    "\n",
    "            pic = np.hstack((img0,utils.rescale(outli),cmap(ncolor.label(maski))[:,:,:3]))\n",
    "            plt.imshow(pic)\n",
    "            plt.axis('off')\n",
    "            plt.show()\n",
    "\n",
    "imagecount, cellcount"
   ]
  },
  {
   "cell_type": "markdown",
   "id": "ebc76ee7-e160-48e7-a642-201ef0c8d2f9",
   "metadata": {},
   "source": [
    "## Check to make sure that there is no duplication "
   ]
  },
  {
   "cell_type": "code",
   "execution_count": null,
   "id": "550198e4-c08d-4dae-ac09-96c4034f1580",
   "metadata": {},
   "outputs": [],
   "source": [
    "# A = ['a','b','c']\n",
    "# B = ['c']\n",
    "A = img_names[0]\n",
    "B = img_names[1]\n",
    "[x for x in A if x in B]"
   ]
  },
  {
   "cell_type": "markdown",
   "id": "1555841e-caa6-4de6-a910-2247629f5bbe",
   "metadata": {},
   "source": [
    "### Export images, masks, and thumbnails"
   ]
  },
  {
   "cell_type": "code",
   "execution_count": null,
   "id": "03b29b68-540e-403f-b53e-f3ffa61a9341",
   "metadata": {},
   "outputs": [],
   "source": [
    "from PIL import Image\n",
    "import tifffile\n",
    "from omnipose.utils import rescale, format_labels\n",
    "offset = [0,len(imgs[0])]\n",
    "# cmap2 = mpl.cm.get_cmap('gray')\n",
    "# cmap2 = mpl.cm.get_cmap('magma')\n",
    "\n",
    "clean = 0\n",
    "save_ncolor = 0\n",
    "save_color = 0\n",
    "display = 0\n",
    "mrcnn = 0 # export to mrcnn folder\n",
    "matlab = 1 # export for morphometrics and supersegger processing\n",
    "\n",
    "# get all the jpg files from the current folder\n",
    "for k in range(2):\n",
    "    # for f,im in zip(img_names[k],imgs[k]):\n",
    "    for i,im,mask in zip(range(len(imgs[k])),imgs[k],masks_gt[k]):\n",
    "        # name = 'img'+str(i+offset[k])\n",
    "        # name = '%03d' % (i+offset[k],) + '_img'\n",
    "        name = '%03d' % (i,) \n",
    "        \n",
    "        if clean:\n",
    "            #save a copy with new naming convention        \n",
    "            savedir = basedir[k]+'_website'\n",
    "            io.check_dir(savedir)\n",
    "            io.imsave(os.path.join(savedir,name+'_img.tif'),im)  \n",
    "            io.imsave(os.path.join(savedir,name+'_masks.tif'),mask)    \n",
    "\n",
    "            # convert to thumbnail image\n",
    "            im = (omnipose.utils.normalize99(im)*255).astype(np.uint8)\n",
    "            im = Image.fromarray(im)\n",
    "            im.thumbnail((128, 128), Image.ANTIALIAS)\n",
    "            savedir = basedir[k]+'_website_thumbnails'\n",
    "            io.check_dir(savedir)\n",
    "            # im.save(os.path.join(savedir,getname(f)+'_thumbnail.tif'))\n",
    "            im.save(os.path.join(savedir,name+'_thumbnail.tif'))\n",
    "        \n",
    "        #Also save an ncolor version\n",
    "        if save_ncolor:\n",
    "            pic = cmap(ncolor.label(mask))\n",
    "            # pic[:,:,-1] = mask>0 #transparency, not needed\n",
    "            savedir = basedir[k]+'_ncolor'\n",
    "            io.check_dir(savedir)\n",
    "            skimage.io.imsave(os.path.join(savedir,name+'_ncolor_masks.tif'),(pic*(2**8-1)).astype(np.uint8))\n",
    "        \n",
    "        # can also save rescaled version of label matrix\n",
    "        if save_color:\n",
    "            cmap2 = ListedColormap([color for color in utils.sinebow(mask.max()).values()])\n",
    "            pic = cmap2(omnipose.utils.rescale(mask))\n",
    "            pic[:,:,-1] = mask>0 #transparency\n",
    "            savedir = basedir[k]+'_rescaled_sinebow'\n",
    "            io.check_dir(savedir)\n",
    "            skimage.io.imsave(os.path.join(savedir,name+'_masks_rescaled.tif'),(pic*(2**8-1)).astype(np.uint8))\n",
    "            \n",
    "        if display:\n",
    "            fig = plt.figure(figsize=[4]*2)\n",
    "            plt.imshow(np.hstack((utils.rescale(im),ncolor.label(mask))))\n",
    "            plt.axis('off')\n",
    "            plt.show()\n",
    "            \n",
    "        if mrcnn:\n",
    "            name = getname(mask_names[k][i]) # use original names for this export \n",
    "            savedir = os.path.join('/home/kcutler/DataDrive/omnipose_all/RGB_for_mrcnn',subset[k])\n",
    "            io.check_dir(savedir)\n",
    "            # io.imsave(os.path.join(savedir,name+'_img.tif'),np.stack([im]*3))  \n",
    "            # io.imsave(os.path.join(savedir,name+'_masks.tif'),mask)    \n",
    "            \n",
    "            mgt = omnipose.utils.format_labels(mask,clean=True)\n",
    "            tifffile.imsave(os.path.join(savedir,name+'_masks.tif'),mgt.astype('int64'))\n",
    "            \n",
    "            img = np.repeat((rescale(im)*(2**16-1)).astype('uint16')[:,:,np.newaxis],repeats=3,axis=-1) # must use rgb images\n",
    "            tifffile.imsave(os.path.join(savedir,name+'.tif'),img) \n",
    "\n",
    "            \n",
    "        if matlab and subset[k]=='test':\n",
    "            name = getname(mask_names[k][i]) # use original names for this export \n",
    "            savedir = os.path.join('/home/kcutler/DataDrive/omnipose_all/matlab')\n",
    "            io.check_dir(savedir)\n",
    "#             \n",
    "            img = (rescale(im)*(2**16-1)).astype('uint16')\n",
    "            tifffile.imsave(os.path.join(savedir,name+'.tif'),img) "
   ]
  },
  {
   "cell_type": "code",
   "execution_count": null,
   "id": "3c66abe6-53b4-415b-afca-6fbc860ac7de",
   "metadata": {},
   "outputs": [],
   "source": [
    "(np.stack([im]*3)).shape"
   ]
  },
  {
   "cell_type": "code",
   "execution_count": null,
   "id": "70157045-d301-4af0-9cfe-db7a1e99a755",
   "metadata": {},
   "outputs": [],
   "source": [
    "getname(mask_names[0])"
   ]
  },
  {
   "cell_type": "code",
   "execution_count": null,
   "id": "5712014e-b96d-480f-b799-4d0868d92ccf",
   "metadata": {},
   "outputs": [],
   "source": [
    "mask_names[0][0]"
   ]
  },
  {
   "cell_type": "code",
   "execution_count": null,
   "id": "d1b331b1-7c96-4595-8bd1-1e1da49b697d",
   "metadata": {},
   "outputs": [],
   "source": [
    "t = io.imread('/home/kcutler/DataDrive/omnipose_all/morphometrics_eval/5I_crop_ensemble_1_Gparent.tif')"
   ]
  },
  {
   "cell_type": "code",
   "execution_count": null,
   "id": "6dd40d8d-5676-44b0-be5a-e860eec48b86",
   "metadata": {},
   "outputs": [],
   "source": [
    "plt.imshow(t)"
   ]
  },
  {
   "cell_type": "code",
   "execution_count": null,
   "id": "8bed20a2-8347-40bc-8339-67396ebc36be",
   "metadata": {},
   "outputs": [],
   "source": []
  }
 ],
 "metadata": {
  "kernelspec": {
   "display_name": "Python 3 (ipykernel)",
   "language": "python",
   "name": "python3"
  },
  "language_info": {
   "codemirror_mode": {
    "name": "ipython",
    "version": 3
   },
   "file_extension": ".py",
   "mimetype": "text/x-python",
   "name": "python",
   "nbconvert_exporter": "python",
   "pygments_lexer": "ipython3",
   "version": "3.8.10"
  }
 },
 "nbformat": 4,
 "nbformat_minor": 5
}
