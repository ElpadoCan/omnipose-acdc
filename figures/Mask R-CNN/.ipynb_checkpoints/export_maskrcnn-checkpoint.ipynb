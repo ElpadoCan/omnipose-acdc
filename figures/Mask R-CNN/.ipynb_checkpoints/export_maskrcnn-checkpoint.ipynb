{
 "cells": [
  {
   "cell_type": "code",
   "execution_count": null,
   "id": "f5c58dbc-4bff-4dc3-a6de-8ec4afdf4595",
   "metadata": {},
   "outputs": [],
   "source": [
    "%load_ext autoreload\n",
    "%autoreload 2\n",
    "from cellpose import io\n",
    "import skimage.io\n",
    "from skimage import measure\n",
    "import numpy as np\n",
    "import matplotlib.pyplot as plt\n",
    "plt.style.use('dark_background')\n",
    "import matplotlib as mpl\n",
    "%matplotlib inline\n",
    "mpl.rcParams['figure.dpi'] = 300\n",
    "import time, os, sys"
   ]
  },
  {
   "cell_type": "code",
   "execution_count": null,
   "id": "eaa13355-ff76-4f4e-915f-255f7abf7ec0",
   "metadata": {},
   "outputs": [],
   "source": [
    "t = 'test'\n",
    "basedir = '/home/kcutler/DataDrive/skelpose_test' \n",
    "# t = 'train'\n",
    "# # basedir = '/home/kcutler/DataDrive/skelpose_all/'+t\n",
    "# basedir = '/home/kcutler/DataDrive/skelpose_train/registered'\n",
    "mask_filter = '_masks'\n",
    "img_names = io.get_image_files(basedir,mask_filter,look_one_level_down=True)\n",
    "mask_names,flow_names = io.get_label_files(img_names, mask_filter)"
   ]
  },
  {
   "cell_type": "code",
   "execution_count": null,
   "id": "ea15319b-f99c-44df-aa01-67b0867a2a67",
   "metadata": {},
   "outputs": [],
   "source": [
    "imgs = [skimage.io.imread(f) for f in img_names]\n",
    "masks_gt = [skimage.io.imread(f) for f in mask_names]"
   ]
  },
  {
   "cell_type": "code",
   "execution_count": null,
   "id": "713a4f36-e510-4b60-a9c3-c60aefc54ccc",
   "metadata": {},
   "outputs": [],
   "source": [
    "#just want to see how many cell there are at most in a training image \n",
    "maxcnt = 0\n",
    "ind = 0\n",
    "for i,mask in enumerate(masks_gt):\n",
    "    u = np.unique(mask)\n",
    "    cnt = len(u[u>0])\n",
    "    if cnt>maxcnt:\n",
    "        maxcnt = cnt\n",
    "        ind = i\n",
    "#         print(u)\n",
    "#         print(i)\n",
    "maxcnt,ind"
   ]
  },
  {
   "cell_type": "code",
   "execution_count": null,
   "id": "6d3f2377-b03c-4ba1-917c-515c7415439b",
   "metadata": {},
   "outputs": [],
   "source": [
    "from cellpose.utils import ncolorlabel\n",
    "m = masks_gt[ind]\n",
    "print(np.max(m))\n",
    "plt.imshow(m)\n",
    "ncolor = ncolorlabel(m,n=12)\n",
    "plt.imshow(ncolor,cmap='plasma')\n",
    "plt.axis('off')"
   ]
  },
  {
   "cell_type": "code",
   "execution_count": null,
   "id": "4477ecf5-1075-454b-af7c-ef3a363af4dc",
   "metadata": {},
   "outputs": [],
   "source": [
    "print(np.max(m),len(np.unique(m)),np.max(ncolor),len(np.unique(ncolor)))\n"
   ]
  },
  {
   "cell_type": "code",
   "execution_count": null,
   "id": "cb1cb506-c683-4716-a6b5-4cff0ec96be8",
   "metadata": {},
   "outputs": [],
   "source": [
    "# import os\n",
    "# from pathlib import Path\n",
    "# def getname(path):\n",
    "#     return os.path.splitext(Path(path).name)[0] \n",
    "# names_gt = ([getname(mn) for mn in img_names])\n",
    "\n",
    "#so now I want to export for maskrcnn, just with indexes \n",
    "nimg = len(masks_gt)\n",
    "ind_img_names = [\"%03d_img.tif\"%k for k in range(nimg)]\n",
    "ind_msk_names = [\"%03d_masks.tif\"%k for k in range(nimg)]"
   ]
  },
  {
   "cell_type": "code",
   "execution_count": null,
   "id": "c3a34673-10a6-4520-8a61-85e5f29c7fa6",
   "metadata": {},
   "outputs": [],
   "source": [
    "k = 1\n",
    "img = np.repeat((rescale(imgs[k])*(2**16-1)).astype('uint16')[:,:,np.newaxis],repeats=3,axis=-1)\n",
    "img.shape"
   ]
  },
  {
   "cell_type": "code",
   "execution_count": null,
   "id": "3050c034-dce0-4c0f-b2c1-9282f0fb31ad",
   "metadata": {},
   "outputs": [],
   "source": [
    "plt.imshow(rescale(img))"
   ]
  },
  {
   "cell_type": "code",
   "execution_count": null,
   "id": "f6446a9b-5a3e-445d-ab72-e51bdbba45f3",
   "metadata": {},
   "outputs": [],
   "source": [
    "import os\n",
    "import tifffile \n",
    "from cellpose.utils import rescale, format_labels"
   ]
  },
  {
   "cell_type": "code",
   "execution_count": null,
   "id": "ce68ea2f-fe77-41ac-ab06-bbd473e5507a",
   "metadata": {},
   "outputs": [],
   "source": [
    "savedir = '/home/kcutler/DataDrive/skelpose_maskrcnn'\n",
    "if not os.path.isdir(savedir):\n",
    "    os.mkdir(savedir)\n",
    "for k in range(nimg):\n",
    "    targetdir = os.path.join(savedir,t)\n",
    "    if not os.path.isdir(targetdir):\n",
    "        os.mkdir(targetdir)\n",
    "        \n",
    "    mgt = format_labels(masks_gt[k],clean=True)\n",
    "    tifffile.imsave(os.path.join(targetdir,ind_msk_names[k]),mgt.astype('int64')) #looks like the cellpose dataset has int64 masks... may be one point of incompatibility\n",
    "    img = np.repeat((rescale(imgs[k])*(2**16-1)).astype('uint16')[:,:,np.newaxis],repeats=3,axis=-1) # must use rgb images\n",
    "    tifffile.imsave(os.path.join(targetdir,ind_img_names[k]),img) #cellpose dataset appears to use uint16 images"
   ]
  },
  {
   "cell_type": "code",
   "execution_count": null,
   "id": "b4501e67-e2ba-4af6-aa84-f8f2002d08e8",
   "metadata": {},
   "outputs": [],
   "source": [
    "np.max(mgt)"
   ]
  },
  {
   "cell_type": "code",
   "execution_count": null,
   "id": "eb471133-734e-4600-8843-a99f3a269213",
   "metadata": {},
   "outputs": [],
   "source": [
    "k = 126\n",
    "m = masks_gt[k]\n",
    "mgt = format_labels(m,clean=True)\n"
   ]
  },
  {
   "cell_type": "code",
   "execution_count": null,
   "id": "53c1b2b1-eff4-4cb6-9fd1-335534ea8c32",
   "metadata": {},
   "outputs": [],
   "source": [
    "y,x = np.nonzero((m>0)*1.0-(mgt>0))\n",
    "# m[y,x]"
   ]
  },
  {
   "cell_type": "code",
   "execution_count": null,
   "id": "db33870f-5ceb-424c-855f-6b8fd738ae66",
   "metadata": {},
   "outputs": [],
   "source": [
    "np.unique( m[y,x])"
   ]
  },
  {
   "cell_type": "code",
   "execution_count": null,
   "id": "0bdf7311-db64-489d-8bb6-6b60d5665841",
   "metadata": {},
   "outputs": [],
   "source": [
    "mask_names[0]"
   ]
  },
  {
   "cell_type": "code",
   "execution_count": null,
   "id": "d4ecf029-bf6c-457c-a377-f4d7100f3a3d",
   "metadata": {},
   "outputs": [],
   "source": []
  },
  {
   "cell_type": "code",
   "execution_count": null,
   "id": "aa9173dd-35ae-498b-baf4-46ec60ea9a2a",
   "metadata": {},
   "outputs": [],
   "source": [
    "plt.imshow(imgs[k])\n",
    "plt.axis('off')"
   ]
  },
  {
   "cell_type": "code",
   "execution_count": null,
   "id": "e4c2fc8e-20b3-4b49-9c31-7b917dfef4f1",
   "metadata": {},
   "outputs": [],
   "source": [
    "plt.imshow(m==40)\n",
    "plt.axis('off')"
   ]
  },
  {
   "cell_type": "code",
   "execution_count": null,
   "id": "ecb72900-0c36-4e74-8540-7c5be959f87d",
   "metadata": {},
   "outputs": [],
   "source": [
    "plt.imshow(mgt)\n",
    "plt.axis('off')"
   ]
  },
  {
   "cell_type": "code",
   "execution_count": null,
   "id": "e2207ae2-dada-4ecd-b691-c46772937a39",
   "metadata": {},
   "outputs": [],
   "source": []
  }
 ],
 "metadata": {
  "kernelspec": {
   "display_name": "cellpose",
   "language": "python",
   "name": "cellpose"
  },
  "language_info": {
   "codemirror_mode": {
    "name": "ipython",
    "version": 3
   },
   "file_extension": ".py",
   "mimetype": "text/x-python",
   "name": "python",
   "nbconvert_exporter": "python",
   "pygments_lexer": "ipython3",
   "version": "3.8.10"
  }
 },
 "nbformat": 4,
 "nbformat_minor": 5
}
